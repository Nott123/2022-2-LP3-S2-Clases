{
 "cells": [
  {
   "cell_type": "markdown",
   "id": "09933064",
   "metadata": {},
   "source": [
    "# SEMANA 03\n",
    "Adrian Eduardo Granados Esteban\n"
   ]
  },
  {
   "cell_type": "markdown",
   "id": "72373a6f",
   "metadata": {},
   "source": [
    "Temas: \n",
    "    1. Numeros \n",
    "    2. Variables \n",
    "    3. Manejo de cadenas \n",
    "    4. Ingreso de datos por el teclado \n",
    "    5. Operadores\n",
    "    \n",
    "    "
   ]
  },
  {
   "cell_type": "markdown",
   "id": "7e461988",
   "metadata": {},
   "source": [
    "2. Variable\n"
   ]
  },
  {
   "cell_type": "code",
   "execution_count": 3,
   "id": "21d5f00d",
   "metadata": {},
   "outputs": [],
   "source": [
    "# siempre debe iniciar con una letra o un guion abajo\n"
   ]
  },
  {
   "cell_type": "code",
   "execution_count": 4,
   "id": "9098c7e7",
   "metadata": {},
   "outputs": [
    {
     "data": {
      "text/plain": [
       "20"
      ]
     },
     "execution_count": 4,
     "metadata": {},
     "output_type": "execute_result"
    }
   ],
   "source": [
    "edad=20\n",
    "edad\n"
   ]
  },
  {
   "cell_type": "code",
   "execution_count": 6,
   "id": "43297514",
   "metadata": {},
   "outputs": [
    {
     "data": {
      "text/plain": [
       "'Adrian'"
      ]
     },
     "execution_count": 6,
     "metadata": {},
     "output_type": "execute_result"
    }
   ],
   "source": [
    "nombre= \"Adrian\"\n",
    "nombre\n"
   ]
  },
  {
   "cell_type": "code",
   "execution_count": 7,
   "id": "378ae223",
   "metadata": {},
   "outputs": [
    {
     "data": {
      "text/plain": [
       "'Granados Esteban'"
      ]
     },
     "execution_count": 7,
     "metadata": {},
     "output_type": "execute_result"
    }
   ],
   "source": [
    "apellido = \"Granados Esteban\"\n",
    "apellido"
   ]
  },
  {
   "cell_type": "code",
   "execution_count": 8,
   "id": "cc2d22cb",
   "metadata": {},
   "outputs": [
    {
     "data": {
      "text/plain": [
       "'Adrian Granados Esteban'"
      ]
     },
     "execution_count": 8,
     "metadata": {},
     "output_type": "execute_result"
    }
   ],
   "source": [
    "nombreapellido = nombre + \" \" + apellido\n",
    "nombreapellido\n"
   ]
  },
  {
   "cell_type": "code",
   "execution_count": 9,
   "id": "e09f1100",
   "metadata": {},
   "outputs": [],
   "source": [
    "#para saber el tipo de variable usamos type()\n"
   ]
  },
  {
   "cell_type": "code",
   "execution_count": 10,
   "id": "470435a1",
   "metadata": {},
   "outputs": [
    {
     "data": {
      "text/plain": [
       "int"
      ]
     },
     "execution_count": 10,
     "metadata": {},
     "output_type": "execute_result"
    }
   ],
   "source": [
    "numero = 100\n",
    "type (numero)"
   ]
  },
  {
   "cell_type": "code",
   "execution_count": 11,
   "id": "feb4ddfd",
   "metadata": {},
   "outputs": [],
   "source": [
    "#para convertir numero a cadena usamos str()"
   ]
  },
  {
   "cell_type": "code",
   "execution_count": 12,
   "id": "dfd16e68",
   "metadata": {},
   "outputs": [
    {
     "data": {
      "text/plain": [
       "'100'"
      ]
     },
     "execution_count": 12,
     "metadata": {},
     "output_type": "execute_result"
    }
   ],
   "source": [
    "numero = 100\n",
    "cadena = str (numero)\n",
    "cadena"
   ]
  },
  {
   "cell_type": "code",
   "execution_count": 13,
   "id": "7dfdd054",
   "metadata": {},
   "outputs": [],
   "source": [
    "#para convertir cadena a entero usamos int()"
   ]
  },
  {
   "cell_type": "code",
   "execution_count": 14,
   "id": "98bfd97e",
   "metadata": {},
   "outputs": [
    {
     "data": {
      "text/plain": [
       "100"
      ]
     },
     "execution_count": 14,
     "metadata": {},
     "output_type": "execute_result"
    }
   ],
   "source": [
    "cadena2 = \"100\"\n",
    "numero2 = int (cadena2)\n",
    "numero2"
   ]
  },
  {
   "cell_type": "code",
   "execution_count": 15,
   "id": "1588dac6",
   "metadata": {},
   "outputs": [
    {
     "data": {
      "text/plain": [
       "int"
      ]
     },
     "execution_count": 15,
     "metadata": {},
     "output_type": "execute_result"
    }
   ],
   "source": [
    "type(numero2)"
   ]
  },
  {
   "cell_type": "code",
   "execution_count": 16,
   "id": "2442b8d6",
   "metadata": {},
   "outputs": [],
   "source": [
    "#convertir cadena a decimal usamos float()"
   ]
  },
  {
   "cell_type": "code",
   "execution_count": 17,
   "id": "8af20d44",
   "metadata": {},
   "outputs": [
    {
     "data": {
      "text/plain": [
       "100.0"
      ]
     },
     "execution_count": 17,
     "metadata": {},
     "output_type": "execute_result"
    }
   ],
   "source": [
    "cadena3 = 100\n",
    "decimal = float(cadena)\n",
    "decimal"
   ]
  },
  {
   "cell_type": "code",
   "execution_count": 18,
   "id": "e0795d1d",
   "metadata": {},
   "outputs": [
    {
     "data": {
      "text/plain": [
       "float"
      ]
     },
     "execution_count": 18,
     "metadata": {},
     "output_type": "execute_result"
    }
   ],
   "source": [
    "type (decimal)"
   ]
  },
  {
   "cell_type": "code",
   "execution_count": null,
   "id": "c4217440",
   "metadata": {},
   "outputs": [],
   "source": []
  }
 ],
 "metadata": {
  "kernelspec": {
   "display_name": "Python 3 (ipykernel)",
   "language": "python",
   "name": "python3"
  },
  "language_info": {
   "codemirror_mode": {
    "name": "ipython",
    "version": 3
   },
   "file_extension": ".py",
   "mimetype": "text/x-python",
   "name": "python",
   "nbconvert_exporter": "python",
   "pygments_lexer": "ipython3",
   "version": "3.9.12"
  }
 },
 "nbformat": 4,
 "nbformat_minor": 5
}

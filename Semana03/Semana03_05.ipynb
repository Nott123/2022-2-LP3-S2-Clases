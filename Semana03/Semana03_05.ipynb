{
 "cells": [
  {
   "cell_type": "markdown",
   "id": "0b87415f",
   "metadata": {},
   "source": [
    "# SEMANA 03\n",
    "Adrian Eduardo Granados Esteban"
   ]
  },
  {
   "cell_type": "markdown",
   "id": "58b4256b",
   "metadata": {},
   "source": [
    "Temas: 1. Numeros 2. Variables 3. Manejo de cadenas 4. Ingreso de datos por el teclado 5. Operadores"
   ]
  },
  {
   "cell_type": "markdown",
   "id": "95ca9e00",
   "metadata": {},
   "source": [
    "5. Operadores"
   ]
  },
  {
   "cell_type": "code",
   "execution_count": 1,
   "id": "dd1e0794",
   "metadata": {},
   "outputs": [
    {
     "name": "stdout",
     "output_type": "stream",
     "text": [
      "68\n",
      "60\n",
      "256\n",
      "16.0\n",
      "0\n",
      "16\n",
      "16777216\n"
     ]
    }
   ],
   "source": [
    "numero1 = 64\n",
    "numero2 = 4\n",
    "suma = numero1 + numero2\n",
    "resta= numero1 - numero2\n",
    "multiplicacion= numero1 * numero2\n",
    "division = numero1 / numero2\n",
    "residuo = numero1 % numero2\n",
    "cociente = numero1 // numero2\n",
    "potencia = numero1 ** numero2\n",
    "print (suma)\n",
    "print(resta)\n",
    "print(multiplicacion)\n",
    "print(division)\n",
    "print(residuo)\n",
    "print(cociente)\n",
    "print ( potencia)"
   ]
  },
  {
   "cell_type": "code",
   "execution_count": 3,
   "id": "58d3e614",
   "metadata": {},
   "outputs": [
    {
     "name": "stdout",
     "output_type": "stream",
     "text": [
      "9\n"
     ]
    }
   ],
   "source": [
    "#Operadores de asignacion\n",
    "numero = 4\n",
    "numero = numero + 5\n",
    "print(numero)"
   ]
  },
  {
   "cell_type": "code",
   "execution_count": 4,
   "id": "fe748b14",
   "metadata": {},
   "outputs": [
    {
     "name": "stdout",
     "output_type": "stream",
     "text": [
      "9\n"
     ]
    }
   ],
   "source": [
    "numero = 4\n",
    "numero +=  5\n",
    "print(numero)"
   ]
  },
  {
   "cell_type": "code",
   "execution_count": 5,
   "id": "707c2a18",
   "metadata": {},
   "outputs": [
    {
     "name": "stdout",
     "output_type": "stream",
     "text": [
      "25\n"
     ]
    }
   ],
   "source": [
    "numero = 5\n",
    "numero = numero ** 2\n",
    "print (numero)"
   ]
  },
  {
   "cell_type": "code",
   "execution_count": 6,
   "id": "0adf1b12",
   "metadata": {},
   "outputs": [
    {
     "name": "stdout",
     "output_type": "stream",
     "text": [
      "25\n"
     ]
    }
   ],
   "source": [
    "numero =5 \n",
    "numero **= 2\n",
    "print(numero)"
   ]
  },
  {
   "cell_type": "code",
   "execution_count": 8,
   "id": "283c05f9",
   "metadata": {},
   "outputs": [
    {
     "data": {
      "text/plain": [
       "False"
      ]
     },
     "execution_count": 8,
     "metadata": {},
     "output_type": "execute_result"
    }
   ],
   "source": [
    "#operadores de comparacion\n",
    "numero1= 23\n",
    "numero2 = 40\n",
    "numero1 == numero2\n"
   ]
  },
  {
   "cell_type": "code",
   "execution_count": 10,
   "id": "2fe86e11",
   "metadata": {},
   "outputs": [
    {
     "data": {
      "text/plain": [
       "True"
      ]
     },
     "execution_count": 10,
     "metadata": {},
     "output_type": "execute_result"
    }
   ],
   "source": [
    "#para las cadenas funciona igual\n",
    "cadena1= \"juan\"\n",
    "cadena2 = \"juan\"\n",
    "cadena1 == cadena2"
   ]
  },
  {
   "cell_type": "code",
   "execution_count": 13,
   "id": "2f860e90",
   "metadata": {},
   "outputs": [
    {
     "data": {
      "text/plain": [
       "False"
      ]
     },
     "execution_count": 13,
     "metadata": {},
     "output_type": "execute_result"
    }
   ],
   "source": [
    "#operadores logicos \n",
    "numero1 = 1 \n",
    "numero2 = 2\n",
    "numero3 =  3 \n",
    "numero4 = 4\n",
    "numero1 > numero4"
   ]
  },
  {
   "cell_type": "code",
   "execution_count": 14,
   "id": "e2d017c3",
   "metadata": {},
   "outputs": [
    {
     "data": {
      "text/plain": [
       "True"
      ]
     },
     "execution_count": 14,
     "metadata": {},
     "output_type": "execute_result"
    }
   ],
   "source": [
    "not(numero1 > numero4)"
   ]
  },
  {
   "cell_type": "code",
   "execution_count": 15,
   "id": "a4c3b44f",
   "metadata": {},
   "outputs": [
    {
     "data": {
      "text/plain": [
       "False"
      ]
     },
     "execution_count": 15,
     "metadata": {},
     "output_type": "execute_result"
    }
   ],
   "source": [
    "numero1 > numero4 and numero2 > numero3"
   ]
  },
  {
   "cell_type": "code",
   "execution_count": 16,
   "id": "cb6a739c",
   "metadata": {},
   "outputs": [
    {
     "data": {
      "text/plain": [
       "True"
      ]
     },
     "execution_count": 16,
     "metadata": {},
     "output_type": "execute_result"
    }
   ],
   "source": [
    "(numero1 > numero4 and numero2 > numero3) or (numero4 > numero1)"
   ]
  },
  {
   "cell_type": "code",
   "execution_count": 20,
   "id": "eb6c8929",
   "metadata": {},
   "outputs": [],
   "source": [
    "#operadores de pertenecia\n",
    "aula = [\"Juan\", \"Diego\", \"Pablo\"]\n",
    "alumno1 = \"Raul\"\n",
    "alumno2 = \"Pablo\""
   ]
  },
  {
   "cell_type": "code",
   "execution_count": 18,
   "id": "c6ba6835",
   "metadata": {},
   "outputs": [
    {
     "data": {
      "text/plain": [
       "False"
      ]
     },
     "execution_count": 18,
     "metadata": {},
     "output_type": "execute_result"
    }
   ],
   "source": [
    "alumno1 in aula"
   ]
  },
  {
   "cell_type": "code",
   "execution_count": 21,
   "id": "6fe6b33b",
   "metadata": {},
   "outputs": [
    {
     "data": {
      "text/plain": [
       "True"
      ]
     },
     "execution_count": 21,
     "metadata": {},
     "output_type": "execute_result"
    }
   ],
   "source": [
    "alumno2 in aula"
   ]
  },
  {
   "cell_type": "code",
   "execution_count": 22,
   "id": "b687aaf9",
   "metadata": {},
   "outputs": [
    {
     "data": {
      "text/plain": [
       "False"
      ]
     },
     "execution_count": 22,
     "metadata": {},
     "output_type": "execute_result"
    }
   ],
   "source": [
    "alumno2 not in aula\n"
   ]
  },
  {
   "cell_type": "code",
   "execution_count": 23,
   "id": "527135aa",
   "metadata": {},
   "outputs": [],
   "source": [
    "aula1 = [\"Juan\", \"Diego\", \"Pablo\"]\n",
    "aula2 = [\"Juan\", \"Diego\", \"Pablo\"]"
   ]
  },
  {
   "cell_type": "code",
   "execution_count": null,
   "id": "f5277455",
   "metadata": {},
   "outputs": [],
   "source": []
  }
 ],
 "metadata": {
  "kernelspec": {
   "display_name": "Python 3 (ipykernel)",
   "language": "python",
   "name": "python3"
  },
  "language_info": {
   "codemirror_mode": {
    "name": "ipython",
    "version": 3
   },
   "file_extension": ".py",
   "mimetype": "text/x-python",
   "name": "python",
   "nbconvert_exporter": "python",
   "pygments_lexer": "ipython3",
   "version": "3.9.12"
  }
 },
 "nbformat": 4,
 "nbformat_minor": 5
}

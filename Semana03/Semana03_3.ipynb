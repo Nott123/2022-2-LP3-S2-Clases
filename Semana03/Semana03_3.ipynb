{
 "cells": [
  {
   "cell_type": "markdown",
   "id": "5e75abd9",
   "metadata": {},
   "source": [
    "# SEMANA 03\n",
    "Adrian Eduardo Granados Esteban\n"
   ]
  },
  {
   "cell_type": "markdown",
   "id": "331a09cf",
   "metadata": {},
   "source": [
    "Temas: 1. Numeros 2. Variables 3. Manejo de cadenas 4. Ingreso de datos por el teclado 5. Operadores"
   ]
  },
  {
   "cell_type": "markdown",
   "id": "90a7d7ba",
   "metadata": {},
   "source": [
    "3. Manejo de cadenas\n"
   ]
  },
  {
   "cell_type": "code",
   "execution_count": 3,
   "id": "791107d7",
   "metadata": {},
   "outputs": [
    {
     "data": {
      "text/plain": [
       "'Universidad Nacional Tecnologica de Lima Sur'"
      ]
     },
     "execution_count": 3,
     "metadata": {},
     "output_type": "execute_result"
    }
   ],
   "source": [
    "cadena = \"Universidad Nacional Tecnologica de Lima Sur\"\n",
    "cadena"
   ]
  },
  {
   "cell_type": "code",
   "execution_count": 4,
   "id": "7707472b",
   "metadata": {},
   "outputs": [],
   "source": [
    "#Universidad Nacional Tecnologica de Lima Sur\n",
    "#01234...................................-2-1"
   ]
  },
  {
   "cell_type": "code",
   "execution_count": 5,
   "id": "2c00c1a5",
   "metadata": {},
   "outputs": [
    {
     "data": {
      "text/plain": [
       "'v'"
      ]
     },
     "execution_count": 5,
     "metadata": {},
     "output_type": "execute_result"
    }
   ],
   "source": [
    "cadena[3]"
   ]
  },
  {
   "cell_type": "code",
   "execution_count": 6,
   "id": "b5445f71",
   "metadata": {},
   "outputs": [],
   "source": [
    "#considera los espacios en blanco\n"
   ]
  },
  {
   "cell_type": "code",
   "execution_count": 7,
   "id": "ea2b2420",
   "metadata": {},
   "outputs": [
    {
     "data": {
      "text/plain": [
       "' '"
      ]
     },
     "execution_count": 7,
     "metadata": {},
     "output_type": "execute_result"
    }
   ],
   "source": [
    "cadena[11]"
   ]
  },
  {
   "cell_type": "code",
   "execution_count": 8,
   "id": "b2388395",
   "metadata": {},
   "outputs": [
    {
     "data": {
      "text/plain": [
       "'r'"
      ]
     },
     "execution_count": 8,
     "metadata": {},
     "output_type": "execute_result"
    }
   ],
   "source": [
    "cadena[-1]"
   ]
  },
  {
   "cell_type": "code",
   "execution_count": 10,
   "id": "502f47fc",
   "metadata": {},
   "outputs": [
    {
     "data": {
      "text/plain": [
       "'versi'"
      ]
     },
     "execution_count": 10,
     "metadata": {},
     "output_type": "execute_result"
    }
   ],
   "source": [
    "#para mostrar una subcadena\n",
    "cadena [3:8]"
   ]
  },
  {
   "cell_type": "code",
   "execution_count": 11,
   "id": "25772407",
   "metadata": {},
   "outputs": [
    {
     "data": {
      "text/plain": [
       "44"
      ]
     },
     "execution_count": 11,
     "metadata": {},
     "output_type": "execute_result"
    }
   ],
   "source": [
    "#tamaño de una cadena usamos en len\n",
    "len(cadena)"
   ]
  },
  {
   "cell_type": "code",
   "execution_count": 13,
   "id": "4ed0e0a9",
   "metadata": {},
   "outputs": [
    {
     "data": {
      "text/plain": [
       "'UNIVERSIDAD NACIONAL TECNOLOGICA DE LIMA SUR'"
      ]
     },
     "execution_count": 13,
     "metadata": {},
     "output_type": "execute_result"
    }
   ],
   "source": [
    "#para mostrar la candena en mayusculas usamos upper\n",
    "cadena.upper()"
   ]
  },
  {
   "cell_type": "code",
   "execution_count": 14,
   "id": "52abc098",
   "metadata": {},
   "outputs": [],
   "source": [
    "#solo la muestra, la cadena sigue igual\n"
   ]
  },
  {
   "cell_type": "code",
   "execution_count": 15,
   "id": "5999777d",
   "metadata": {},
   "outputs": [
    {
     "data": {
      "text/plain": [
       "'UNIVERSIDAD NACIONAL TECNOLOGICA DE LIMA SUR'"
      ]
     },
     "execution_count": 15,
     "metadata": {},
     "output_type": "execute_result"
    }
   ],
   "source": [
    "cadena = cadena.upper()\n",
    "cadena"
   ]
  },
  {
   "cell_type": "code",
   "execution_count": 16,
   "id": "d800e44f",
   "metadata": {},
   "outputs": [
    {
     "data": {
      "text/plain": [
       "'universidad nacional tecnologica de lima sur'"
      ]
     },
     "execution_count": 16,
     "metadata": {},
     "output_type": "execute_result"
    }
   ],
   "source": [
    "#para mostrar la cadena en minusculas usamos lower\n",
    "cadena.lower()"
   ]
  },
  {
   "cell_type": "code",
   "execution_count": 17,
   "id": "0765485e",
   "metadata": {},
   "outputs": [
    {
     "data": {
      "text/plain": [
       "'universidad nacional tecnologica de lima sur'"
      ]
     },
     "execution_count": 17,
     "metadata": {},
     "output_type": "execute_result"
    }
   ],
   "source": [
    "cadena = cadena.lower()\n",
    "cadena"
   ]
  },
  {
   "cell_type": "code",
   "execution_count": 18,
   "id": "80edf4ec",
   "metadata": {},
   "outputs": [],
   "source": [
    "#una lista a partir de un criterio de separacion usamos split"
   ]
  },
  {
   "cell_type": "code",
   "execution_count": 20,
   "id": "9a726b08",
   "metadata": {},
   "outputs": [
    {
     "data": {
      "text/plain": [
       "['universidad', 'nacional', 'tecnologica', 'de', 'lima', 'sur']"
      ]
     },
     "execution_count": 20,
     "metadata": {},
     "output_type": "execute_result"
    }
   ],
   "source": [
    "cadena.split()"
   ]
  },
  {
   "cell_type": "code",
   "execution_count": 21,
   "id": "f1fb5306",
   "metadata": {},
   "outputs": [
    {
     "data": {
      "text/plain": [
       "['universid', 'd n', 'cion', 'l tecnologic', ' de lim', ' sur']"
      ]
     },
     "execution_count": 21,
     "metadata": {},
     "output_type": "execute_result"
    }
   ],
   "source": [
    "cadena.split(\"a\")"
   ]
  },
  {
   "cell_type": "code",
   "execution_count": 22,
   "id": "583114bb",
   "metadata": {},
   "outputs": [],
   "source": [
    "#forma clasica, concatenar con +"
   ]
  },
  {
   "cell_type": "code",
   "execution_count": 23,
   "id": "46fab42f",
   "metadata": {},
   "outputs": [
    {
     "name": "stdout",
     "output_type": "stream",
     "text": [
      "Buenas tardes Adrian Eduardo\n"
     ]
    }
   ],
   "source": [
    "nombre = \"Adrian Eduardo\"\n",
    "print(\"Buenas tardes \" + nombre)\n"
   ]
  },
  {
   "cell_type": "code",
   "execution_count": 26,
   "id": "9701d23b",
   "metadata": {},
   "outputs": [
    {
     "name": "stdout",
     "output_type": "stream",
     "text": [
      "hola Adrian Eduardo ya se que tienes 20 años \n"
     ]
    }
   ],
   "source": [
    "#usando el .format()\n",
    "nombre = \"Adrian Eduardo\"\n",
    "edad = 20\n",
    "print (\"hola {} ya se que tienes {} años \".format(nombre,edad))\n"
   ]
  },
  {
   "cell_type": "code",
   "execution_count": 30,
   "id": "7a942658",
   "metadata": {},
   "outputs": [
    {
     "name": "stdout",
     "output_type": "stream",
     "text": [
      "10/3 es = 3.333\n"
     ]
    }
   ],
   "source": [
    "resultado = 10/3\n",
    "print (\"10/3 es = {r:1.3f}\".format(r=resultado))"
   ]
  },
  {
   "cell_type": "code",
   "execution_count": 31,
   "id": "3fb4d42d",
   "metadata": {},
   "outputs": [
    {
     "name": "stdout",
     "output_type": "stream",
     "text": [
      "10/3 es =3.333\n"
     ]
    }
   ],
   "source": [
    "resultado = 10/3\n",
    "print (f\"10/3 es ={resultado:1.3f}\")"
   ]
  },
  {
   "cell_type": "code",
   "execution_count": null,
   "id": "1d2eccbf",
   "metadata": {},
   "outputs": [],
   "source": []
  }
 ],
 "metadata": {
  "kernelspec": {
   "display_name": "Python 3 (ipykernel)",
   "language": "python",
   "name": "python3"
  },
  "language_info": {
   "codemirror_mode": {
    "name": "ipython",
    "version": 3
   },
   "file_extension": ".py",
   "mimetype": "text/x-python",
   "name": "python",
   "nbconvert_exporter": "python",
   "pygments_lexer": "ipython3",
   "version": "3.9.12"
  }
 },
 "nbformat": 4,
 "nbformat_minor": 5
}
